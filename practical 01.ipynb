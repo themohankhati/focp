{
 "cells": [
  {
   "cell_type": "markdown",
   "id": "3f1bfe42",
   "metadata": {},
   "source": [
    "Name: Mohan Khati\n",
    "Sec B Bsc(H) computing L4"
   ]
  },
  {
   "cell_type": "markdown",
   "id": "77ad7d3a",
   "metadata": {},
   "source": [
    "# The Python interpreter can behave as an interactive-shell. This basically means we work at the command line within a ‘shell’ that understands the Python language. To start Python we simply type the following at the command line:"
   ]
  },
  {
   "cell_type": "code",
   "execution_count": 9,
   "id": "f6cec93a",
   "metadata": {},
   "outputs": [
    {
     "name": "stdout",
     "output_type": "stream",
     "text": [
      "Python 3.9.7\n"
     ]
    }
   ],
   "source": [
    "!python -V\n"
   ]
  },
  {
   "cell_type": "markdown",
   "id": "d6e8d9d2",
   "metadata": {},
   "source": [
    "# TASK: Try inputting and executing the code below:"
   ]
  },
  {
   "cell_type": "code",
   "execution_count": 11,
   "id": "ebb4c63e",
   "metadata": {},
   "outputs": [
    {
     "name": "stdout",
     "output_type": "stream",
     "text": [
      "the program has executed\n"
     ]
    }
   ],
   "source": [
    "print(\"the program has executed\")"
   ]
  },
  {
   "cell_type": "code",
   "execution_count": 15,
   "id": "8f6125b5",
   "metadata": {},
   "outputs": [
    {
     "name": "stdout",
     "output_type": "stream",
     "text": [
      "hell0 world!\n"
     ]
    }
   ],
   "source": [
    "print(\"hell0 world!\")"
   ]
  },
  {
   "cell_type": "code",
   "execution_count": 17,
   "id": "ece352c9",
   "metadata": {},
   "outputs": [
    {
     "name": "stdout",
     "output_type": "stream",
     "text": [
      "hello, Mohan\n"
     ]
    }
   ],
   "source": [
    "print(\"hello, Mohan\")"
   ]
  },
  {
   "cell_type": "markdown",
   "id": "8930c5b7",
   "metadata": {},
   "source": [
    "# TASK: Use the up and down arrow keys to recall the commands you have already input, select one of these then re-execute the command by pressing the &lt;enter&gt; key."
   ]
  },
  {
   "cell_type": "code",
   "execution_count": 18,
   "id": "e645f6a2",
   "metadata": {},
   "outputs": [
    {
     "ename": "NameError",
     "evalue": "name 'up' is not defined",
     "output_type": "error",
     "traceback": [
      "\u001b[1;31m---------------------------------------------------------------------------\u001b[0m",
      "\u001b[1;31mNameError\u001b[0m                                 Traceback (most recent call last)",
      "\u001b[1;32m~\\AppData\\Local\\Temp/ipykernel_13224/1643540276.py\u001b[0m in \u001b[0;36m<module>\u001b[1;34m\u001b[0m\n\u001b[1;32m----> 1\u001b[1;33m \u001b[0mup\u001b[0m\u001b[1;33m\u001b[0m\u001b[1;33m\u001b[0m\u001b[0m\n\u001b[0m",
      "\u001b[1;31mNameError\u001b[0m: name 'up' is not defined"
     ]
    }
   ],
   "source": []
  },
  {
   "cell_type": "markdown",
   "id": "000f72eb",
   "metadata": {},
   "source": [
    "# TASK: Use the interactive help system to display a list of available language “keywords”,then quit the interactive help to return back to the Python interpreter."
   ]
  },
  {
   "cell_type": "code",
   "execution_count": null,
   "id": "b1d3610b",
   "metadata": {},
   "outputs": [
    {
     "name": "stdout",
     "output_type": "stream",
     "text": [
      "\n",
      "Welcome to Python 3.9's help utility!\n",
      "\n",
      "If this is your first time using Python, you should definitely check out\n",
      "the tutorial on the Internet at https://docs.python.org/3.9/tutorial/.\n",
      "\n",
      "Enter the name of any module, keyword, or topic to get help on writing\n",
      "Python programs and using Python modules.  To quit this help utility and\n",
      "return to the interpreter, just type \"quit\".\n",
      "\n",
      "To get a list of available modules, keywords, symbols, or topics, type\n",
      "\"modules\", \"keywords\", \"symbols\", or \"topics\".  Each module also comes\n",
      "with a one-line summary of what it does; to list the modules whose name\n",
      "or summary contain a given string such as \"spam\", type \"modules spam\".\n",
      "\n",
      "help> keywords\n",
      "\n",
      "Here is a list of the Python keywords.  Enter any keyword to get more help.\n",
      "\n",
      "False               break               for                 not\n",
      "None                class               from                or\n",
      "True                continue            global              pass\n",
      "__peg_parser__      def                 if                  raise\n",
      "and                 del                 import              return\n",
      "as                  elif                in                  try\n",
      "assert              else                is                  while\n",
      "async               except              lambda              with\n",
      "await               finally             nonlocal            yield\n",
      "\n"
     ]
    }
   ],
   "source": [
    "help()"
   ]
  },
  {
   "cell_type": "code",
   "execution_count": null,
   "id": "7841bea8",
   "metadata": {},
   "outputs": [],
   "source": [
    "help(print)"
   ]
  },
  {
   "cell_type": "markdown",
   "id": "a8408b91",
   "metadata": {},
   "source": [
    "# TASK: Enter a single ‘help’ command to look up information about the ‘input’ object then return back to the interpreter."
   ]
  },
  {
   "cell_type": "code",
   "execution_count": null,
   "id": "9e115f57",
   "metadata": {},
   "outputs": [
    {
     "name": "stdout",
     "output_type": "stream",
     "text": [
      "\n",
      "Welcome to Python 3.9's help utility!\n",
      "\n",
      "If this is your first time using Python, you should definitely check out\n",
      "the tutorial on the Internet at https://docs.python.org/3.9/tutorial/.\n",
      "\n",
      "Enter the name of any module, keyword, or topic to get help on writing\n",
      "Python programs and using Python modules.  To quit this help utility and\n",
      "return to the interpreter, just type \"quit\".\n",
      "\n",
      "To get a list of available modules, keywords, symbols, or topics, type\n",
      "\"modules\", \"keywords\", \"symbols\", or \"topics\".  Each module also comes\n",
      "with a one-line summary of what it does; to list the modules whose name\n",
      "or summary contain a given string such as \"spam\", type \"modules spam\".\n",
      "\n",
      "help> input\n",
      "Help on method raw_input in module ipykernel.kernelbase:\n",
      "\n",
      "input = raw_input(prompt='') method of ipykernel.ipkernel.IPythonKernel instance\n",
      "    Forward raw_input to frontends\n",
      "    \n",
      "    Raises\n",
      "    ------\n",
      "    StdinNotImplementedError if active frontend doesn't support stdin.\n",
      "\n"
     ]
    }
   ],
   "source": [
    "help()"
   ]
  },
  {
   "cell_type": "code",
   "execution_count": null,
   "id": "3eee9e08",
   "metadata": {},
   "outputs": [],
   "source": [
    "quit()"
   ]
  },
  {
   "cell_type": "markdown",
   "id": "e97a0cb0",
   "metadata": {},
   "source": [
    "# TASK: Try inputting and executing the code below:"
   ]
  },
  {
   "cell_type": "code",
   "execution_count": 1,
   "id": "0a5c4651",
   "metadata": {},
   "outputs": [
    {
     "data": {
      "text/plain": [
       "65"
      ]
     },
     "execution_count": 1,
     "metadata": {},
     "output_type": "execute_result"
    }
   ],
   "source": [
    "45+20"
   ]
  },
  {
   "cell_type": "markdown",
   "id": "91bcb664",
   "metadata": {},
   "source": [
    "# TASK: Input then execute the following expressions (note: you will have to re-enter each expression separately). Ensure you understand each operator and the result produced."
   ]
  },
  {
   "cell_type": "code",
   "execution_count": 2,
   "id": "d55756b1",
   "metadata": {},
   "outputs": [
    {
     "data": {
      "text/plain": [
       "15"
      ]
     },
     "execution_count": 2,
     "metadata": {},
     "output_type": "execute_result"
    }
   ],
   "source": [
    "10+20-15"
   ]
  },
  {
   "cell_type": "code",
   "execution_count": 3,
   "id": "7cff228d",
   "metadata": {},
   "outputs": [
    {
     "data": {
      "text/plain": [
       "50"
      ]
     },
     "execution_count": 3,
     "metadata": {},
     "output_type": "execute_result"
    }
   ],
   "source": [
    "10*5"
   ]
  },
  {
   "cell_type": "code",
   "execution_count": 4,
   "id": "4f931fb2",
   "metadata": {},
   "outputs": [
    {
     "data": {
      "text/plain": [
       "3.0303030303030303"
      ]
     },
     "execution_count": 4,
     "metadata": {},
     "output_type": "execute_result"
    }
   ],
   "source": [
    "100/33"
   ]
  },
  {
   "cell_type": "code",
   "execution_count": 5,
   "id": "ae370ee1",
   "metadata": {},
   "outputs": [
    {
     "data": {
      "text/plain": [
       "3"
      ]
     },
     "execution_count": 5,
     "metadata": {},
     "output_type": "execute_result"
    }
   ],
   "source": [
    "100//33"
   ]
  },
  {
   "cell_type": "code",
   "execution_count": 6,
   "id": "afc7eb5e",
   "metadata": {},
   "outputs": [
    {
     "data": {
      "text/plain": [
       "100"
      ]
     },
     "execution_count": 6,
     "metadata": {},
     "output_type": "execute_result"
    }
   ],
   "source": [
    "10**2"
   ]
  },
  {
   "cell_type": "code",
   "execution_count": 7,
   "id": "d01245aa",
   "metadata": {},
   "outputs": [
    {
     "data": {
      "text/plain": [
       "1"
      ]
     },
     "execution_count": 7,
     "metadata": {},
     "output_type": "execute_result"
    }
   ],
   "source": [
    "10%3"
   ]
  },
  {
   "cell_type": "markdown",
   "id": "c296b9fa",
   "metadata": {},
   "source": [
    "# TASK: To see precedence at work input then execute the following expressions."
   ]
  },
  {
   "cell_type": "code",
   "execution_count": 8,
   "id": "03a3efc6",
   "metadata": {},
   "outputs": [
    {
     "data": {
      "text/plain": [
       "20"
      ]
     },
     "execution_count": 8,
     "metadata": {},
     "output_type": "execute_result"
    }
   ],
   "source": [
    "10+5*2"
   ]
  },
  {
   "cell_type": "code",
   "execution_count": 9,
   "id": "acb7e6c8",
   "metadata": {},
   "outputs": [
    {
     "data": {
      "text/plain": [
       "-35"
      ]
     },
     "execution_count": 9,
     "metadata": {},
     "output_type": "execute_result"
    }
   ],
   "source": [
    "10 - 5 * 10 + 5"
   ]
  },
  {
   "cell_type": "code",
   "execution_count": 10,
   "id": "8aee978a",
   "metadata": {},
   "outputs": [
    {
     "data": {
      "text/plain": [
       "500"
      ]
     },
     "execution_count": 10,
     "metadata": {},
     "output_type": "execute_result"
    }
   ],
   "source": [
    "5*10**2"
   ]
  },
  {
   "cell_type": "markdown",
   "id": "05f99c8b",
   "metadata": {},
   "source": [
    "# TASK: Input and execute the following expressions, then compare the results to those of the previous task."
   ]
  },
  {
   "cell_type": "code",
   "execution_count": 11,
   "id": "a68e45bb",
   "metadata": {},
   "outputs": [
    {
     "data": {
      "text/plain": [
       "30"
      ]
     },
     "execution_count": 11,
     "metadata": {},
     "output_type": "execute_result"
    }
   ],
   "source": [
    "(10 + 5) * 2"
   ]
  },
  {
   "cell_type": "code",
   "execution_count": 12,
   "id": "2901d8e7",
   "metadata": {},
   "outputs": [
    {
     "data": {
      "text/plain": [
       "-65"
      ]
     },
     "execution_count": 12,
     "metadata": {},
     "output_type": "execute_result"
    }
   ],
   "source": [
    "10 - 5 * (10 + 5)"
   ]
  },
  {
   "cell_type": "code",
   "execution_count": 13,
   "id": "02a50e95",
   "metadata": {},
   "outputs": [
    {
     "data": {
      "text/plain": [
       "2500"
      ]
     },
     "execution_count": 13,
     "metadata": {},
     "output_type": "execute_result"
    }
   ],
   "source": [
    "(5 * 10) ** 2"
   ]
  },
  {
   "cell_type": "markdown",
   "id": "07896e4e",
   "metadata": {},
   "source": [
    "# TASK: Input and execute the following expressions. Notice the different results."
   ]
  },
  {
   "cell_type": "code",
   "execution_count": 14,
   "id": "7bc7568f",
   "metadata": {},
   "outputs": [
    {
     "data": {
      "text/plain": [
       "25"
      ]
     },
     "execution_count": 14,
     "metadata": {},
     "output_type": "execute_result"
    }
   ],
   "source": [
    "12 + (5 * 2 + 3)"
   ]
  },
  {
   "cell_type": "code",
   "execution_count": 15,
   "id": "40e99dde",
   "metadata": {},
   "outputs": [
    {
     "data": {
      "text/plain": [
       "37"
      ]
     },
     "execution_count": 15,
     "metadata": {},
     "output_type": "execute_result"
    }
   ],
   "source": [
    "12 + (5 * (2 + 3))"
   ]
  },
  {
   "cell_type": "markdown",
   "id": "b6e64232",
   "metadata": {},
   "source": [
    "# Syntax error"
   ]
  },
  {
   "cell_type": "code",
   "execution_count": 16,
   "id": "caa6ccc9",
   "metadata": {},
   "outputs": [
    {
     "ename": "SyntaxError",
     "evalue": "invalid syntax (Temp/ipykernel_360/664761973.py, line 1)",
     "output_type": "error",
     "traceback": [
      "\u001b[1;36m  File \u001b[1;32m\"C:\\Users\\Dell\\AppData\\Local\\Temp/ipykernel_360/664761973.py\"\u001b[1;36m, line \u001b[1;32m1\u001b[0m\n\u001b[1;33m    10 +\u001b[0m\n\u001b[1;37m        ^\u001b[0m\n\u001b[1;31mSyntaxError\u001b[0m\u001b[1;31m:\u001b[0m invalid syntax\n"
     ]
    }
   ],
   "source": [
    "10 +"
   ]
  },
  {
   "cell_type": "markdown",
   "id": "91468f29",
   "metadata": {},
   "source": [
    "# Logical errror"
   ]
  },
  {
   "cell_type": "markdown",
   "id": "8bdaa573",
   "metadata": {},
   "source": [
    "Logical errors occur during run-time, i.e. as the program is executing and being used\n",
    "(rather than during development)."
   ]
  },
  {
   "cell_type": "code",
   "execution_count": 18,
   "id": "29857bee",
   "metadata": {},
   "outputs": [
    {
     "ename": "ZeroDivisionError",
     "evalue": "division by zero",
     "output_type": "error",
     "traceback": [
      "\u001b[1;31m---------------------------------------------------------------------------\u001b[0m",
      "\u001b[1;31mZeroDivisionError\u001b[0m                         Traceback (most recent call last)",
      "\u001b[1;32m~\\AppData\\Local\\Temp/ipykernel_360/1855555144.py\u001b[0m in \u001b[0;36m<module>\u001b[1;34m\u001b[0m\n\u001b[1;32m----> 1\u001b[1;33m \u001b[0mprint\u001b[0m\u001b[1;33m(\u001b[0m\u001b[1;34m\"Ten divided by zero is\"\u001b[0m\u001b[1;33m,\u001b[0m \u001b[1;36m10\u001b[0m\u001b[1;33m/\u001b[0m\u001b[1;36m0\u001b[0m \u001b[1;33m)\u001b[0m\u001b[1;33m\u001b[0m\u001b[1;33m\u001b[0m\u001b[0m\n\u001b[0m",
      "\u001b[1;31mZeroDivisionError\u001b[0m: division by zero"
     ]
    }
   ],
   "source": [
    "print(\"Ten divided by zero is\", 10/0 )"
   ]
  },
  {
   "cell_type": "markdown",
   "id": "7bb49c2a",
   "metadata": {},
   "source": [
    "# Key terminology"
   ]
  },
  {
   "cell_type": "markdown",
   "id": "2c2bdd77",
   "metadata": {},
   "source": [
    "# Source code:\n",
    "    Source code is generally understood to mean programming statemens that are created by a programmer with a text editor or a visual progamming tool and then saved in a file."
   ]
  },
  {
   "cell_type": "markdown",
   "id": "368eac05",
   "metadata": {},
   "source": [
    "# Machine code"
   ]
  },
  {
   "cell_type": "markdown",
   "id": "7b6e578a",
   "metadata": {},
   "source": [
    "Machine code, also known as machine language, is the elemental language of computers. It is read by the computer's central processing unit, is composed of digital binary numbers and looks like a very long sequence of zeros and ones."
   ]
  },
  {
   "cell_type": "markdown",
   "id": "43e1c38a",
   "metadata": {},
   "source": [
    "# Interpreter"
   ]
  },
  {
   "cell_type": "markdown",
   "id": "58641e07",
   "metadata": {},
   "source": [
    "Interpreter translates just one statement of the program at a time into machine code."
   ]
  },
  {
   "cell_type": "markdown",
   "id": "0e3c9a1b",
   "metadata": {},
   "source": [
    "# Compiler"
   ]
  },
  {
   "cell_type": "markdown",
   "id": "4a2fb4d8",
   "metadata": {},
   "source": [
    "Compiler scans the entire program and translates the whole of it into machine code at once."
   ]
  },
  {
   "cell_type": "markdown",
   "id": "6730a67b",
   "metadata": {},
   "source": [
    "# 2GL"
   ]
  },
  {
   "cell_type": "markdown",
   "id": "bcb25a4e",
   "metadata": {},
   "source": [
    "Assembly is a second generation programming language. e.g. add r1, r2"
   ]
  },
  {
   "cell_type": "markdown",
   "id": "e8eb808b",
   "metadata": {},
   "source": [
    "# 3GL"
   ]
  },
  {
   "cell_type": "markdown",
   "id": "4d983fb7",
   "metadata": {},
   "source": [
    "Third generation languages are the most commonly used, they include: \n",
    "    \n",
    "    C, COBOL, Pascal(procedural)\n",
    "    c++, Objective, C#, java(object oriented)\n",
    "    python, javascript, PHP(multi-paradigm-scripting type)"
   ]
  },
  {
   "cell_type": "markdown",
   "id": "6c7c85dd",
   "metadata": {},
   "source": [
    "# 4GL"
   ]
  },
  {
   "cell_type": "markdown",
   "id": "95c81db7",
   "metadata": {},
   "source": [
    "Fourth generation languages are more abstract from the underlying machine, and are based on defining what is to be done, rather than how."
   ]
  },
  {
   "cell_type": "markdown",
   "id": "3abcf12c",
   "metadata": {},
   "source": [
    "# Executable"
   ]
  },
  {
   "cell_type": "markdown",
   "id": "783e02ce",
   "metadata": {},
   "source": [
    "An Executable is a file that contains a program- that is, a particular kind of file that is capable of being executed or run as a program in the computer,"
   ]
  },
  {
   "cell_type": "markdown",
   "id": "c9ab8147",
   "metadata": {},
   "source": [
    "# Expressions"
   ]
  },
  {
   "cell_type": "markdown",
   "id": "8d930120",
   "metadata": {},
   "source": [
    "An expression is a combination of operators and operands that is interpreted to produce some other value."
   ]
  },
  {
   "cell_type": "markdown",
   "id": "6670e0f3",
   "metadata": {},
   "source": [
    "# Operators and Operands"
   ]
  },
  {
   "cell_type": "markdown",
   "id": "615f5177",
   "metadata": {},
   "source": [
    "The operators indicate what action or operation to perform. The operands indicate what items to apply the action to."
   ]
  },
  {
   "cell_type": "markdown",
   "id": "832a43c2",
   "metadata": {},
   "source": [
    "# Syntax errors"
   ]
  },
  {
   "cell_type": "markdown",
   "id": "c29e4233",
   "metadata": {},
   "source": [
    "Syntax errors are usually the most common, but also the most easy to fix which occur when the programming language syntax has not been used correctly."
   ]
  },
  {
   "cell_type": "markdown",
   "id": "8689dfb9",
   "metadata": {},
   "source": [
    "# Logical errors"
   ]
  },
  {
   "cell_type": "markdown",
   "id": "d9cd740c",
   "metadata": {},
   "source": [
    "Logical errors occur during run time, and can be hard to find and fix."
   ]
  },
  {
   "cell_type": "code",
   "execution_count": null,
   "id": "16866b87",
   "metadata": {},
   "outputs": [],
   "source": []
  }
 ],
 "metadata": {
  "kernelspec": {
   "display_name": "Python 3 (ipykernel)",
   "language": "python",
   "name": "python3"
  },
  "language_info": {
   "codemirror_mode": {
    "name": "ipython",
    "version": 3
   },
   "file_extension": ".py",
   "mimetype": "text/x-python",
   "name": "python",
   "nbconvert_exporter": "python",
   "pygments_lexer": "ipython3",
   "version": "3.9.7"
  }
 },
 "nbformat": 4,
 "nbformat_minor": 5
}
